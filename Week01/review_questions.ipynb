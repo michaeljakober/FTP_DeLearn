{
 "cells": [
  {
   "cell_type": "markdown",
   "id": "7a88933e-d416-4ff7-a0f2-f56d3cae2c73",
   "metadata": {},
   "source": [
    "# Review Questions"
   ]
  },
  {
   "cell_type": "markdown",
   "id": "171edd2a-8073-4901-8b5d-b320f88a88e3",
   "metadata": {},
   "source": [
    "**Group Names:** Michael Jakober, Cyril Winkler, Jaron Matzinger, Maurice Salzmann"
   ]
  },
  {
   "cell_type": "markdown",
   "id": "c9aebc0b-de7e-4887-8b24-c5b0c724f4ed",
   "metadata": {},
   "source": [
    "## 1) Supervised vs. unsupervised systems"
   ]
  },
  {
   "cell_type": "markdown",
   "id": "35512aa0-54ec-4b5a-8971-f39de3df0476",
   "metadata": {},
   "source": [
    " Of the following examples, which one would you address using a supervised or an unsupervised\n",
    " learning algorithm? Give some explanations for your answers."
   ]
  },
  {
   "cell_type": "markdown",
   "id": "91c2b015-14e7-4fa1-abce-c0404f1ba70b",
   "metadata": {},
   "source": [
    "a) Given email labeled as spam/not spam, learn a spam filter.\n",
    "- Supervised\n",
    "\n",
    "b) Given a set of news articles found on the web, group them into sets of related articles.\n",
    "- Unsupervised\n",
    "\n",
    "c) Given a database of customer data, automatically discover market segments and group\n",
    " customers into different market segments.\n",
    "- Unsupervised\n",
    "\n",
    "d) Given a dataset of patients diagnosed as either having glaucoma or not, learn to classify\n",
    " new patients as having glaucoma or not.\n",
    "- Supervised"
   ]
  },
  {
   "cell_type": "markdown",
   "id": "7955a67c-20fe-41ce-9c42-8681b334839b",
   "metadata": {},
   "source": [
    "## 2) Classification vs. regression systems"
   ]
  },
  {
   "cell_type": "markdown",
   "id": "20395791-c48d-4810-938d-bd0ceb5f60b9",
   "metadata": {},
   "source": [
    " Can we transform a regression problem into a classification problem? What would be the\n",
    " benefits of doing so?\n",
    " - Yes, The numeric values can be divided into distinct categories/classes. This can make it easier to interpret the results and."
   ]
  },
  {
   "cell_type": "markdown",
   "id": "05c9cef6-eb2d-4e83-82cb-758c1acd19a3",
   "metadata": {},
   "source": [
    "## 3) Numpy arrays"
   ]
  },
  {
   "cell_type": "markdown",
   "id": "7358bc90-0add-460d-8ca6-1bdf9d2644e2",
   "metadata": {},
   "source": [
    " a) What are the main differences between a Python list and a numpy array ?\n",
    "- A Python list can contain any items, from integers, to float to strings. It can also be easily extended and does not have a fixed length. A numpy array can only contain numbers from the same data-type and gets its size at creation time.\n",
    " \n",
    " b) Can we mix different types of data in a numpy array?\n",
    "- Depends, if you add a float to an integer-array, it will cast all integers to the new float-datatype. So it is possible do use different types, however it will save them as one datatype.\n",
    " \n",
    " c) Define what is the rank in a numpy array.\n",
    "- The dimension of the array, so a 2D-Array, which is a Matrix, has the rank 2.\n",
    " \n",
    " d) If we load a gray-level image in a numpy array, what is the rank of this array? Explain the different dimensions. Give a potential value of the shape attribute for a square images.\n",
    "- The rank will be 2, as it is a 2D Image with only one color-channel. A potetial value for the shape could be (480, 480)\n",
    " \n",
    " e) Regarding the previous point, what would be the difference with a color image?\n",
    "- The color image would have 3 color-channels instead of each, normally one for each red, green and blue. The shape would be (480, 480, 3) and the rank therefore 3."
   ]
  }
 ],
 "metadata": {
  "kernelspec": {
   "display_name": "delearn",
   "language": "python",
   "name": "delearn"
  },
  "language_info": {
   "codemirror_mode": {
    "name": "ipython",
    "version": 3
   },
   "file_extension": ".py",
   "mimetype": "text/x-python",
   "name": "python",
   "nbconvert_exporter": "python",
   "pygments_lexer": "ipython3",
   "version": "3.10.16"
  }
 },
 "nbformat": 4,
 "nbformat_minor": 5
}
